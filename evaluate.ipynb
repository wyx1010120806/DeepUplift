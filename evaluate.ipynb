{
 "cells": [
  {
   "cell_type": "code",
   "execution_count": null,
   "metadata": {},
   "outputs": [],
   "source": [
    "import random\n",
    "import numpy as np\n",
    "import pandas as pd\n",
    "\n",
    "from efin import *\n",
    "from functools import partial\n",
    "from esn_tarnet import *\n",
    "from feature_select import *\n",
    "from s_learner import *\n",
    "from t_learner import *\n",
    "from tarnet import *\n",
    "from evaluate import *\n",
    "\n",
    "def set_seed(seed):\n",
    "        random.seed(seed)\n",
    "        np.random.seed(seed)\n",
    "        torch.manual_seed(seed)\n",
    "        torch.cuda.manual_seed_all(seed)\n",
    "        torch.backends.cudnn.deterministic = True\n",
    "        torch.backends.cudnn.benchmark = False\n",
    "set_seed(42)\n"
   ]
  },
  {
   "cell_type": "code",
   "execution_count": null,
   "metadata": {},
   "outputs": [],
   "source": [
    "device = torch.device('cuda' if torch.cuda.is_available() else 'cpu')\n",
    "device = 'cpu'"
   ]
  },
  {
   "cell_type": "code",
   "execution_count": null,
   "metadata": {},
   "outputs": [],
   "source": [
    "#读取特征列表\n",
    "import pickle\n",
    "with open('./feature_list_bonus_pdp_id_selected.pkl', 'rb') as f:\n",
    "    feature_list = pickle.load(f)\n",
    "print(len(feature_list))"
   ]
  },
  {
   "cell_type": "code",
   "execution_count": null,
   "metadata": {},
   "outputs": [],
   "source": [
    "#读取特征列表\n",
    "import pickle\n",
    "with open('./feature_list_bonus_pdp_id_selected_discrete.pkl', 'rb') as f:\n",
    "    feature_list_discrete = pickle.load(f)\n",
    "print(len(feature_list_discrete))"
   ]
  },
  {
   "cell_type": "code",
   "execution_count": null,
   "metadata": {},
   "outputs": [],
   "source": [
    "#读取特征列表\n",
    "import pickle\n",
    "with open('./feature_list_bonus_pdp_id_selected_discrete_size.pkl', 'rb') as f:\n",
    "    discrete_size_cols = pickle.load(f)\n",
    "print(discrete_size_cols)"
   ]
  },
  {
   "cell_type": "code",
   "execution_count": null,
   "metadata": {},
   "outputs": [],
   "source": [
    "model_list = {}"
   ]
  },
  {
   "cell_type": "code",
   "execution_count": null,
   "metadata": {},
   "outputs": [],
   "source": [
    "\n",
    "model = ESN_Tarnet(\n",
    "    input_dim=len(feature_list), discrete_size_cols=discrete_size_cols,embedding_dim=3,share_dim=64,\n",
    "                 share_hidden_dims =[256,128,64,64],\n",
    "                 base_hidden_dims=[64,32,32,16],output_activation_base=torch.nn.Sigmoid(),\n",
    "                 ipw_hidden_dims=[256,128,64,64],output_activation_ipw=None,\n",
    "                 share_hidden_func = torch.nn.ELU(),base_hidden_func = torch.nn.ELU(), ipw_hidden_func = torch.nn.ELU(),\n",
    "                 task = 'classification',classi_nums=2, treatment_label_list=[0,1,2,3],model_type='ESN_Tarnet',device=device\n",
    ")\n",
    "checkpoint = torch.load('./bonus_pdp_id_esn_tarnet_checkpoint_256_69.pth', map_location=device)\n",
    "model.load_state_dict(checkpoint['model_state_dict'])\n",
    "model_list['ESN_Tarnet_256'] = model\n",
    "\n",
    "model = Tarnet(\n",
    "    input_dim=len(feature_list), discrete_size_cols=discrete_size_cols,embedding_dim=3,share_dim=64,\n",
    "                 share_hidden_dims =[256,128,64,64],\n",
    "                 base_hidden_dims=[64,32,32,16],output_activation_base=torch.nn.Sigmoid(),\n",
    "                 share_hidden_func = torch.nn.ELU(),base_hidden_func = torch.nn.ELU(), \n",
    "                 task = 'classification',classi_nums=2, treatment_label_list=[0,1,2,3],model_type='ESN_Tarnet',device=device\n",
    ")\n",
    "checkpoint = torch.load('./bonus_pdp_id_checkpoint_tarnet_256_75.pth', map_location=device)\n",
    "model.load_state_dict(checkpoint['model_state_dict'])\n",
    "model_list['Tarnet_256'] = model\n",
    "\n",
    "model = Tarnet(\n",
    "    input_dim=len(feature_list), discrete_size_cols=discrete_size_cols,embedding_dim=3,share_dim=64,\n",
    "                 share_hidden_dims =[256,128,64,64],\n",
    "                 base_hidden_dims=[64,32,32,16],output_activation_base=torch.nn.Sigmoid(),\n",
    "                 share_hidden_func = torch.nn.ELU(),base_hidden_func = torch.nn.ELU(), \n",
    "                 task = 'classification',classi_nums=2, treatment_label_list=[0,1,2,3],model_type='ESN_Tarnet',device=device\n",
    ")\n",
    "checkpoint = torch.load('./bonus_pdp_id_checkpoint_tarnet_512_89.pth', map_location=device)\n",
    "model.load_state_dict(checkpoint['model_state_dict'])\n",
    "model_list['Tarnet_512'] = model\n",
    "\n",
    "\n",
    "model = Slearner(\n",
    "    input_dim=len(feature_list), discrete_size_cols=discrete_size_cols,embedding_dim=3,\n",
    "                 base_hidden_dims=[64,32,32,16],output_activation_base=None,base_hidden_func = torch.nn.ELU(), \n",
    "                 task = 'classification',classi_nums=2, treatment_label_list=[0,1,2,3],model_type='Tlearner',device=device\n",
    ")\n",
    "checkpoint = torch.load('./bonus_pdp_id_slearn_checkpoint_512_94.pth', map_location=device)\n",
    "model.load_state_dict(checkpoint['model_state_dict'])\n",
    "model_list['Slearner'] = model\n",
    "\n",
    "model = Tlearner(\n",
    "    input_dim=len(feature_list), discrete_size_cols=discrete_size_cols,embedding_dim=3,\n",
    "                 base_hidden_dims=[64,32,32,16],output_activation_base=None,base_hidden_func = torch.nn.ELU(), \n",
    "                 task = 'classification',classi_nums=2, treatment_label_list=[0,1,2,3],model_type='Tlearner',device=device\n",
    ")\n",
    "checkpoint = torch.load('./bonus_pdp_id_tlearn_checkpoint_256_16.pth', map_location=device)\n",
    "model.load_state_dict(checkpoint['model_state_dict'])\n",
    "model_list['Tlearner'] = model"
   ]
  },
  {
   "cell_type": "code",
   "execution_count": null,
   "metadata": {},
   "outputs": [],
   "source": [
    "df = pd.read_parquet('/mlx_devbox/users/wangyuxin.huoshan/playground/bonus_train_data/bonus_pdp_id_test_id',columns=feature_list+['enter_ab_date','is_treatment','gmv','roas_label']).fillna(0)"
   ]
  },
  {
   "cell_type": "code",
   "execution_count": null,
   "metadata": {},
   "outputs": [],
   "source": [
    "X_train = torch.tensor(df[feature_list].values, dtype=torch.float32).to(device)\n",
    "X_discrete = torch.tensor(df[feature_list_discrete].values, dtype=torch.float32).to(device)\n",
    "X_continuous = torch.tensor(df[[_ for _ in feature_list if _ not in feature_list_discrete]].values, dtype=torch.float32).to(device)"
   ]
  },
  {
   "cell_type": "code",
   "execution_count": null,
   "metadata": {},
   "outputs": [],
   "source": [
    "uplift_prediction = {}\n",
    "for each in model_list.keys():\n",
    "    model = model_list[each]\n",
    "    model.to(device)\n",
    "    model.eval()\n",
    "    with torch.no_grad(): \n",
    "        uplift_predictions,y_preds,*eps = model(X_train, None, X_discrete=X_discrete, X_continuous=X_continuous)\n",
    "    uplift_prediction[each] = torch.cat(uplift_predictions,dim=1).detach().cpu().numpy()\n"
   ]
  },
  {
   "cell_type": "code",
   "execution_count": null,
   "metadata": {},
   "outputs": [],
   "source": [
    "# for treatment in [0,1,2,3]:\n",
    "#     print(treatment)\n",
    "#     df['y_predictions'] = y_prediction[:,treatment]\n",
    "#     df_tmp = df[df['is_treatment'].isin([treatment])]\n",
    "#     cacu_auc(df=df_tmp,y_true='roas_label',y_predictions='y_predictions',is_discreate=True)\n"
   ]
  },
  {
   "cell_type": "code",
   "execution_count": null,
   "metadata": {},
   "outputs": [],
   "source": [
    "for treatment in [1,2,3]:\n",
    "    print(treatment)\n",
    "    for each in uplift_prediction.keys():\n",
    "        print(each)\n",
    "        df['uplift_predictions_'+each] = uplift_prediction[each][:,treatment-1]\n",
    " \n",
    "    df_tmp = df[df['is_treatment'].isin([0,treatment])]\n",
    "    df_tmp['is_treatment'] = df_tmp['is_treatment'].apply(lambda x: 1 if x == treatment else 0)\n",
    "    df_tmp['random'] = np.random.rand(df_tmp.shape[0])\n",
    "\n",
    "    evaluate(df=df_tmp[['roas_label','is_treatment','random'] + ['uplift_predictions_'+_ for _ in uplift_prediction.keys()]],y_true='roas_label',treatment='is_treatment',divide_feature=None)\n",
    "\n",
    "\n",
    "    "
   ]
  },
  {
   "cell_type": "code",
   "execution_count": null,
   "metadata": {},
   "outputs": [],
   "source": []
  }
 ],
 "metadata": {
  "fileId": "beb3992b-677d-47b6-8ae9-c1af57f41da3",
  "filePath": "/mlx_devbox/users/wangyuxin.huoshan/playground/deeplift/main.ipynb",
  "kernelspec": {
   "display_name": "base",
   "language": "python",
   "name": "pythonjvsc74a57bd03dd32d9f94238ec8b0e4f79eabc9bcad10ffae3232487ad50a9b3a08094f8c66"
  },
  "language_info": {
   "codemirror_mode": {
    "name": "ipython",
    "version": 3
   },
   "file_extension": ".py",
   "mimetype": "text/x-python",
   "name": "python",
   "nbconvert_exporter": "python",
   "pygments_lexer": "ipython3",
   "version": "3.12.8"
  }
 },
 "nbformat": 4,
 "nbformat_minor": 2
}
