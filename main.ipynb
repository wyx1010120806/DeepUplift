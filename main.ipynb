{
 "cells": [
  {
   "cell_type": "code",
   "execution_count": null,
   "metadata": {},
   "outputs": [],
   "source": [
    "import random\n",
    "import numpy as np\n",
    "import pandas as pd\n",
    "\n",
    "from efin import *\n",
    "from functools import partial\n",
    "from esn_tarnet import *\n",
    "from feature_select import *\n",
    "from s_learner import *\n",
    "from t_learner import *\n",
    "from tarnet import *\n",
    "\n",
    "def set_seed(seed):\n",
    "        random.seed(seed)\n",
    "        np.random.seed(seed)\n",
    "        torch.manual_seed(seed)\n",
    "        torch.cuda.manual_seed_all(seed)\n",
    "        torch.backends.cudnn.deterministic = True\n",
    "        torch.backends.cudnn.benchmark = False\n",
    "set_seed(42)"
   ]
  },
  {
   "cell_type": "code",
   "execution_count": null,
   "metadata": {},
   "outputs": [],
   "source": [
    "#读取特征列表\n",
    "import pickle\n",
    "with open('./feature_list_bonus_order_submit_id.pkl', 'rb') as f:\n",
    "    feature_list = pickle.load(f)\n",
    "print(len(feature_list))"
   ]
  },
  {
   "cell_type": "code",
   "execution_count": null,
   "metadata": {},
   "outputs": [],
   "source": [
    "df = pd.read_parquet('/mlx_devbox/users/wangyuxin.huoshan/playground/bonus_train_data/bonus_order_submit_id_train_valid_id',columns=feature_list+['is_treatment','gmv','roas_label']).fillna(0)\n",
    "print(df.groupby('is_treatment').size())\n",
    "print(df.groupby('roas_label').size())"
   ]
  },
  {
   "cell_type": "code",
   "execution_count": null,
   "metadata": {},
   "outputs": [],
   "source": [
    "top_features = features_select(df,feature_list,'roas_label',100,'./feature_list_bonus_order_submit_id_selected.pkl')\n",
    "top_features"
   ]
  },
  {
   "cell_type": "code",
   "execution_count": null,
   "metadata": {},
   "outputs": [],
   "source": [
    "with open('./feature_list_bonus_order_submit_id.pkl', 'rb') as f:\n",
    "    feature_list = pickle.load(f)\n",
    "print(len(feature_list))\n",
    "df = pd.read_parquet('/mlx_devbox/users/wangyuxin.huoshan/playground/bonus_train_data/bonus_order_submit_id_train_valid_id',columns=feature_list+['is_treatment','gmv','roas_label']).fillna(0)"
   ]
  },
  {
   "cell_type": "code",
   "execution_count": null,
   "metadata": {},
   "outputs": [],
   "source": [
    "discrete_size_cols = []\n",
    "feature_list_discrete = []\n",
    "for each in feature_list:\n",
    "    class_num = df[each].nunique()\n",
    "    if class_num <= 40:\n",
    "        if df[each].min() == 0:\n",
    "            print(f\"Feature {each}: min index={df[each].min()}, max index={df[each].max()}, embedding num_embeddings={class_num}\")\n",
    "            discrete_size_cols.append(class_num+1)\n",
    "            feature_list_discrete.append(each)\n",
    "\n",
    "print(len(feature_list_discrete))\n",
    "import pickle\n",
    "# 将列表保存到文件\n",
    "with open('./feature_list_bonus_order_submit_id_selected_discrete.pkl', 'wb') as f:\n",
    "    pickle.dump(feature_list_discrete, f)\n",
    "\n",
    "with open('./feature_list_bonus_order_submit_id_selected_discrete_size.pkl', 'wb') as f:\n",
    "    pickle.dump(discrete_size_cols, f)\n"
   ]
  },
  {
   "cell_type": "code",
   "execution_count": null,
   "metadata": {},
   "outputs": [],
   "source": [
    "device = torch.device('cuda' if torch.cuda.is_available() else 'cpu')\n",
    "device"
   ]
  },
  {
   "cell_type": "code",
   "execution_count": null,
   "metadata": {},
   "outputs": [],
   "source": [
    "model = Slearner(\n",
    "    input_dim=len(feature_list), discrete_size_cols=discrete_size_cols,embedding_dim=3,\n",
    "                 base_hidden_dims=[64,32,32,16],output_activation_base=None,base_hidden_func = torch.nn.ELU(), \n",
    "                 task = 'classification',classi_nums=2, treatment_label_list=[0,1,2,3],model_type='Slearner',device=device\n",
    ").to(device)\n",
    "loss_f = partial(slearn_loss)"
   ]
  },
  {
   "cell_type": "code",
   "execution_count": null,
   "metadata": {},
   "outputs": [],
   "source": [
    "model = Tlearner(\n",
    "    input_dim=len(feature_list), discrete_size_cols=discrete_size_cols,embedding_dim=3,\n",
    "                 base_hidden_dims=[64,32,32,16],output_activation_base=None,base_hidden_func = torch.nn.ELU(), \n",
    "                 task = 'classification',classi_nums=2, treatment_label_list=[0,1,2,3],model_type='Tlearner',device=device\n",
    ").to(device)\n",
    "loss_f = partial(tlearn_loss)"
   ]
  },
  {
   "cell_type": "code",
   "execution_count": null,
   "metadata": {},
   "outputs": [],
   "source": [
    "model = Tarnet(\n",
    "    input_dim=len(feature_list), discrete_size_cols=discrete_size_cols,embedding_dim=3,share_dim=64,\n",
    "                 share_hidden_dims =[256,128,64,64],\n",
    "                 base_hidden_dims=[64,32,32,16],output_activation_base=torch.nn.Sigmoid(),\n",
    "                 share_hidden_func = torch.nn.ELU(),base_hidden_func = torch.nn.ELU(), \n",
    "                 task = 'classification',classi_nums=2, treatment_label_list=[0,1,2,3],model_type='Tarnet',device=device\n",
    ").to(device)\n",
    "loss_f = partial(tarnet_loss)"
   ]
  },
  {
   "cell_type": "code",
   "execution_count": null,
   "metadata": {},
   "outputs": [],
   "source": [
    "model = ESN_Tarnet(\n",
    "    input_dim=len(feature_list), discrete_size_cols=discrete_size_cols,embedding_dim=3,share_dim=64,\n",
    "                 share_hidden_dims =[256,128,64,64],\n",
    "                 base_hidden_dims=[64,32,32,16],output_activation_base=torch.nn.Sigmoid(),\n",
    "                 ipw_hidden_dims=[256,128,64,64],output_activation_ipw=None,\n",
    "                 share_hidden_func = torch.nn.ELU(),base_hidden_func = torch.nn.ELU(), ipw_hidden_func = torch.nn.ELU(),\n",
    "                 task = 'classification',classi_nums=2, treatment_label_list=[0,1,2,3],model_type='ESN_Tarnet',device=device\n",
    ").to(device)\n",
    "loss_f = partial(esn_tarnet_loss)\n"
   ]
  },
  {
   "cell_type": "code",
   "execution_count": null,
   "metadata": {},
   "outputs": [],
   "source": [
    "model.fit(\n",
    "    df=df,\n",
    "    feature_list=feature_list,\n",
    "    discrete_cols=feature_list_discrete,\n",
    "    epochs=300,\n",
    "    batch_size=256,\n",
    "    learning_rate=1e-5,\n",
    "    loss_f=loss_f,\n",
    "    tensorboard=False,\n",
    "    num_workers=40,\n",
    "    pin_memory=True,\n",
    "    device=device,\n",
    "    valid_perc=True,\n",
    "    label_y='roas_label',\n",
    "    label_treatment='is_treatment',\n",
    "    task='classification',\n",
    "    loss_type='BCELoss',\n",
    "    treatment_label_list=[0, 1, 2],\n",
    "    checkpoint_path='./model_checkpoint.pth',\n",
    "    if_continued_train = 0\n",
    ")"
   ]
  },
  {
   "cell_type": "code",
   "execution_count": null,
   "metadata": {},
   "outputs": [],
   "source": [
    "# 保存模型参数\n",
    "torch.save(model.state_dict(), \"./model.pth\")\n"
   ]
  },
  {
   "cell_type": "code",
   "execution_count": null,
   "metadata": {},
   "outputs": [],
   "source": []
  },
  {
   "cell_type": "code",
   "execution_count": null,
   "metadata": {},
   "outputs": [],
   "source": []
  },
  {
   "cell_type": "code",
   "execution_count": null,
   "metadata": {},
   "outputs": [],
   "source": []
  },
  {
   "cell_type": "code",
   "execution_count": null,
   "metadata": {},
   "outputs": [],
   "source": []
  },
  {
   "cell_type": "code",
   "execution_count": null,
   "metadata": {},
   "outputs": [],
   "source": []
  },
  {
   "cell_type": "code",
   "execution_count": null,
   "metadata": {},
   "outputs": [],
   "source": []
  },
  {
   "cell_type": "code",
   "execution_count": null,
   "metadata": {},
   "outputs": [],
   "source": []
  },
  {
   "cell_type": "code",
   "execution_count": null,
   "metadata": {},
   "outputs": [],
   "source": []
  },
  {
   "cell_type": "code",
   "execution_count": null,
   "metadata": {},
   "outputs": [],
   "source": []
  },
  {
   "cell_type": "code",
   "execution_count": null,
   "metadata": {},
   "outputs": [],
   "source": []
  }
 ],
 "metadata": {
  "fileId": "beb3992b-677d-47b6-8ae9-c1af57f41da3",
  "filePath": "/mlx_devbox/users/wangyuxin.huoshan/playground/deeplift/main.ipynb",
  "kernelspec": {
   "display_name": "base",
   "language": "python",
   "name": "pythonjvsc74a57bd03dd32d9f94238ec8b0e4f79eabc9bcad10ffae3232487ad50a9b3a08094f8c66"
  },
  "language_info": {
   "codemirror_mode": {
    "name": "ipython",
    "version": 3
   },
   "file_extension": ".py",
   "mimetype": "text/x-python",
   "name": "python",
   "nbconvert_exporter": "python",
   "pygments_lexer": "ipython3",
   "version": "3.12.8"
  }
 },
 "nbformat": 4,
 "nbformat_minor": 2
}
